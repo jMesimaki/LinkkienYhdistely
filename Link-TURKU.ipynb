{
 "cells": [
  {
   "cell_type": "code",
   "execution_count": 1,
   "metadata": {},
   "outputs": [],
   "source": [
    "import pandas as pd\n",
    "import geopandas as gpd\n",
    "import numpy as np\n",
    "from pyproj import CRS\n",
    "from shapely import geometry, ops"
   ]
  },
  {
   "cell_type": "code",
   "execution_count": 2,
   "metadata": {},
   "outputs": [],
   "source": [
    "network2 = gpd.read_file(\"C:/data/L3Pilot/katuverkko/Turku/Shape/TurkuKVL.shp\") \n",
    "#network2 = gpd.read_file(\"C:/data/L3Pilot/katuverkko/Helsinki/hki_link_liikennemääräkartta2019/test/Kehä1.shp\")"
   ]
  },
  {
   "cell_type": "code",
   "execution_count": 3,
   "metadata": {},
   "outputs": [],
   "source": [
    "collist = list(network2.columns)"
   ]
  },
  {
   "cell_type": "code",
   "execution_count": 4,
   "metadata": {},
   "outputs": [],
   "source": [
    "#network = gpd.GeoDataFrame(network2, columns=collist)"
   ]
  },
  {
   "cell_type": "code",
   "execution_count": 5,
   "metadata": {},
   "outputs": [],
   "source": [
    "network2[\"KATULUOKKA\"] = network2[\"toimluok_l\"]"
   ]
  },
  {
   "cell_type": "code",
   "execution_count": 6,
   "metadata": {},
   "outputs": [],
   "source": [
    "#Turun KVL-aineistossa on Nonetype kadunnimiä. Korvataan:\n",
    "katulist = list(network2[\"katu\"])\n",
    "nonelist = [1]\n",
    "otherlist = [str(1)]\n",
    "\n",
    "for å in range(0, len(network2)):\n",
    "    if network2[\"katu\"].iloc[å] == None:\n",
    "        nonelist.append(1)\n",
    "        otherlist.append(str(sum(nonelist)))\n",
    "\n",
    "nimetonlist = []\n",
    "for w in range(0, len(otherlist)):\n",
    "    nimetonlist.append(\"nimeton\"+otherlist[w])\n",
    "\n",
    "orderlist = [1]\n",
    "for e in range(0, len(katulist)):\n",
    "    if katulist[e] == None:\n",
    "        katulist[e] = nimetonlist[sum(orderlist)-1]\n",
    "        orderlist.append(1)\n",
    "                         "
   ]
  },
  {
   "cell_type": "code",
   "execution_count": 7,
   "metadata": {},
   "outputs": [
    {
     "name": "stderr",
     "output_type": "stream",
     "text": [
      "C:\\Users\\jmjohan\\.conda\\envs\\gis\\lib\\site-packages\\ipykernel_launcher.py:1: FutureWarning:     You are passing non-geometry data to the GeoSeries constructor. Currently,\n",
      "    it falls back to returning a pandas Series. But in the future, we will start\n",
      "    to raise a TypeError instead.\n",
      "  \"\"\"Entry point for launching an IPython kernel.\n"
     ]
    }
   ],
   "source": [
    "network2[\"katu\"] = gpd.GeoSeries(katulist)"
   ]
  },
  {
   "cell_type": "code",
   "execution_count": 8,
   "metadata": {},
   "outputs": [],
   "source": [
    "grouped = network2.groupby(\"katu\")"
   ]
  },
  {
   "cell_type": "code",
   "execution_count": 9,
   "metadata": {},
   "outputs": [],
   "source": [
    "#alternative katulist\n",
    "katulist = list(network2[\"katu\"])\n",
    "my_set = set(katulist)\n",
    "uniquekadut = list(my_set)"
   ]
  },
  {
   "cell_type": "code",
   "execution_count": null,
   "metadata": {},
   "outputs": [],
   "source": []
  },
  {
   "cell_type": "code",
   "execution_count": 10,
   "metadata": {},
   "outputs": [
    {
     "data": {
      "text/plain": [
       "321"
      ]
     },
     "execution_count": 10,
     "metadata": {},
     "output_type": "execute_result"
    }
   ],
   "source": [
    "len(uniquekadut)"
   ]
  },
  {
   "cell_type": "code",
   "execution_count": 71,
   "metadata": {},
   "outputs": [],
   "source": [
    "%%capture\n",
    "\n",
    "testilista = []\n",
    "homogeeniset_linkit = gpd.GeoDataFrame()\n",
    "mergetest = gpd.GeoDataFrame()\n",
    "\n",
    "#for i in katulist: #Iterate over streets\n",
    "for i in uniquekadut:\n",
    "    grp = grouped.get_group(i)\n",
    "    KLgrouped = grp.groupby(\"toimluok_l\") #Group by road class\n",
    "    \n",
    "    #Iterate over classes in street\n",
    "    for key, y in KLgrouped:\n",
    "        KLgrp = KLgrouped.get_group(key)\n",
    "        #Dissolve road sections that are of the same class in the same street\n",
    "        dissolved = KLgrp.dissolve(by=\"toimluok_l\") \n",
    "        dissolved = dissolved.reset_index()\n",
    "        \n",
    "        #Select sections which are not multilinestring. They can be added to main GDF.\n",
    "        if str(type(dissolved.iloc[0, 1])) != \"<class 'shapely.geometry.multilinestring.MultiLineString'>\": \n",
    "            homogeeniset_linkit = homogeeniset_linkit.append(dissolved.iloc[0])\n",
    "        \n",
    "        #Select sections constisting of multilinestrings. These secitons are not next to each other, and must be made separate for the main GDF\n",
    "        elif str(type(dissolved.iloc[0, 1])) == \"<class 'shapely.geometry.multilinestring.MultiLineString'>\": \n",
    "            merge = ops.linemerge(dissolved.iloc[0, 1]) #now have the n. of continuous pieces as multilinestring object. Must be merged to join otherwise separate but connected lines.\n",
    "            \n",
    "            #Select sections merged to multilinestrings\n",
    "            if str(type(merge)) == \"<class 'shapely.geometry.multilinestring.MultiLineString'>\": \n",
    "                dissolved3 = gpd.GeoDataFrame() #Create GDF to which we will collect these as seperate sections\n",
    "                bufdf = gpd.GeoDataFrame() #Create GDF to which we will collect buffers of the seperate sections\n",
    "                buflist = []\n",
    "                for b in range(0, (len(merge))): #Create enough rows to accommodate all sections\n",
    "                    dissolved3 = dissolved3.append(dissolved.iloc[0])\n",
    "                \n",
    "                #Replace old geometry with seperate sections\n",
    "                for x in range(0, len(dissolved3)): \n",
    "                    dissolved3[\"geometry\"].iloc[x] = merge[x]\n",
    "                    \n",
    "                dissolved3 = dissolved3.reset_index()\n",
    " \n",
    "                #BUFFERS --------- Buffers must be created around the seperate sections selected above. \n",
    "                #This is due to links in Helsinki network not always being spatially connected in the shape file (difference of 0.1-2m usually, \n",
    "                #even though they represent roads connected in reality. Buffers are used to bridge these links.\n",
    "                \n",
    "                #Create buffers for all seperated links\n",
    "                for z in range(0, len(dissolved3)): \n",
    "                    buf = dissolved3[\"geometry\"].iloc[z].buffer(8) #---------ADJUST BUFFER SIZE HERE-------------\n",
    "                    buflist.append(buf) #Add buffers to a list\n",
    "                \n",
    "                dissolved3 = dissolved3.drop([\"index\"], axis=\"columns\") #Remove index column from dissolved3\n",
    "                bufdf[\"geometry\"] = gpd.GeoSeries(buflist) #Add contents of buflist to bufdf \n",
    "                bufdf.reset_index()\n",
    "                \n",
    "                #Create empty geodataframes to be filled with ID concerning whether buffers touch, and how they touch other buffers\n",
    "                touchingbufs = gpd.GeoDataFrame()\n",
    "                maxidissolve = gpd.GeoDataFrame()\n",
    "                \n",
    "                touchingbufslist = [] #Here we will collect the information concerning what buffers a buffer touches\n",
    "                excesslist = [] \n",
    "                \n",
    "                #Iterate over buffers for separated links. Add buffers to \"touchingbufs\" and a corresponding ID-value to touchingbufslist.\n",
    "                for v in list(range(0, len(bufdf)-1)):\n",
    "                    \n",
    "                    # FIRST, check if first feature touches another buffer or stands alone. Append touchingbufslist accordingly\n",
    "                    if len(touchingbufslist) == 0:\n",
    "                        if (bufdf.loc[v][\"geometry\"].intersects(bufdf.loc[v+1][\"geometry\"])): #Collect intersecting buffers into one df\n",
    "                            touchingbufs = touchingbufs.append(bufdf.loc[v])\n",
    "                            touchingbufslist.append(\"s\") #Create ID to identify continuous section\n",
    "                        elif (bufdf.loc[v][\"geometry\"].intersects(bufdf.loc[v+1][\"geometry\"]) == False):\n",
    "                            touchingbufs = touchingbufs.append(bufdf.loc[v])\n",
    "                            touchingbufslist.append(\"own\") #Append ID\n",
    "                    #front and back        \n",
    "                    elif (bufdf.loc[v][\"geometry\"].intersects(bufdf.loc[v+1][\"geometry\"])) and (bufdf.loc[v][\"geometry\"].intersects(bufdf.loc[int(v-1)][\"geometry\"])): \n",
    "                            touchingbufs = touchingbufs.append(bufdf.loc[v])\n",
    "                            touchingbufslist.append(\"fb\") #Append ID\n",
    "                    #back only        \n",
    "                    elif (bufdf.loc[v][\"geometry\"].intersects(bufdf.loc[v-1][\"geometry\"])) and ((bufdf.loc[v][\"geometry\"].intersects(bufdf.loc[v+1][\"geometry\"])) == False): \n",
    "                            touchingbufs = touchingbufs.append(bufdf.loc[v])\n",
    "                            touchingbufslist.append(\"b\") #Append ID\n",
    "                    #front only        \n",
    "                    elif (bufdf.loc[v][\"geometry\"].intersects(bufdf.loc[v-1][\"geometry\"]) == False) and ((bufdf.loc[v][\"geometry\"].intersects(bufdf.loc[v+1][\"geometry\"]))): \n",
    "                            touchingbufs = touchingbufs.append(bufdf.loc[v])\n",
    "                            touchingbufslist.append(\"s\") #Append ID\n",
    "                    #unconnected        \n",
    "                    elif (bufdf.loc[v][\"geometry\"].intersects(bufdf.loc[v-1][\"geometry\"]) == False) and ((bufdf.loc[v][\"geometry\"].intersects(bufdf.loc[v+1][\"geometry\"])) == False): \n",
    "                            touchingbufs = touchingbufs.append(bufdf.loc[v])\n",
    "                            touchingbufslist.append(\"own\") #Append ID\n",
    "                    #excess        \n",
    "                    elif KeyError:\n",
    "                        excesslist.append(1)\n",
    "\n",
    "\n",
    "                touchingbufs = touchingbufs.reset_index()\n",
    "                touchingbufs[\"startstop\"] = gpd.GeoSeries(touchingbufslist) #Add intersecting buffer ID to GDF which contains the buffers\n",
    "                \n",
    "                #Give ID-Values to buffers. These will be used to dissolve continuous sections .\n",
    "                slist = []\n",
    "                idlist = []\n",
    "                for k in range(0, len(touchingbufs)):\n",
    "                    if touchingbufs[\"startstop\"].iloc[k] == \"s\":\n",
    "                        slist.append(1)\n",
    "                        idlist.append(sum(slist))\n",
    "                    elif touchingbufs[\"startstop\"].iloc[k] == \"fb\":\n",
    "                        idlist.append(sum(slist))\n",
    "                    elif touchingbufs[\"startstop\"].iloc[k] == \"b\":\n",
    "                        idlist.append(sum(slist))\n",
    "                        #slist.append(1)\n",
    "                    elif touchingbufs[\"startstop\"].iloc[k] == \"own\":\n",
    "                        slist.append(1)\n",
    "                        idlist.append(sum(slist))\n",
    "                        test = sum(slist)\n",
    "                \n",
    "                if len(touchingbufs) > 0:\n",
    "                    touchingbufs[\"dissolve\"] = gpd.GeoDataFrame(idlist)\n",
    "                    touchingbufs[\"BufID\"] = gpd.GeoDataFrame(idlist)\n",
    "                    touchingbufs[\"BufID2\"] = gpd.GeoDataFrame(idlist)\n",
    "                    \n",
    "                    tdissolve = touchingbufs.dissolve(by=\"dissolve\") #Dissolve buffers that touch by the intersecting buffer ID\n",
    "                if len(tdissolve) > 0: #If tdissolve contains something, add it to maxidissolve GDF\n",
    "                    maxidissolve = maxidissolve.append(tdissolve)\n",
    "                               \n",
    "                # Join with previously merged sections\n",
    "                bufjoin = gpd.sjoin(dissolved3, maxidissolve, how=\"left\", op=\"within\") #Spatially join links (lines) with buffers\n",
    "                bufjoin = bufjoin.reset_index()\n",
    "                bufjoinfinal = bufjoin.dissolve(by=\"BufID\") #Dissolve by BufferID\n",
    "                bufjoinfinal = bufjoinfinal.reset_index()\n",
    "                \n",
    "\n",
    "                for n in range(0, len(bufjoin)): #Add links that were not within buffers\n",
    "                    if pd.isna(bufjoin[\"BufID2\"].loc[n]):\n",
    "                        bufjoinfinal = bufjoinfinal.append(bufjoin.iloc[n])\n",
    "                \n",
    "                for q in range(0, len(bufjoinfinal)):\n",
    "                    homogeeniset_linkit = homogeeniset_linkit.append(bufjoinfinal.iloc[q]) # append final links to main GDF\n",
    "\n",
    "            else: # Any other sections need no attention and can be passed to the main GDF\n",
    "                dissolved4 = gpd.GeoDataFrame()\n",
    "                dissolved4 = dissolved4.append(dissolved.iloc[0])\n",
    "                dissolved4[\"geometry\"].iloc[0] = merge\n",
    "                homogeeniset_linkit = homogeeniset_linkit.append(dissolved4.iloc[0])\n",
    "        \n",
    "\n",
    "homogeeniset_linkit = homogeeniset_linkit.drop([\"level_0\"], axis=\"columns\")\n",
    "homogeeniset_linkit = homogeeniset_linkit.reset_index()\n",
    "homogeeniset_linkit.crs = CRS.from_epsg(3067)"
   ]
  },
  {
   "cell_type": "code",
   "execution_count": 72,
   "metadata": {},
   "outputs": [
    {
     "data": {
      "text/html": [
       "<div>\n",
       "<style scoped>\n",
       "    .dataframe tbody tr th:only-of-type {\n",
       "        vertical-align: middle;\n",
       "    }\n",
       "\n",
       "    .dataframe tbody tr th {\n",
       "        vertical-align: top;\n",
       "    }\n",
       "\n",
       "    .dataframe thead th {\n",
       "        text-align: right;\n",
       "    }\n",
       "</style>\n",
       "<table border=\"1\" class=\"dataframe\">\n",
       "  <thead>\n",
       "    <tr style=\"text-align: right;\">\n",
       "      <th></th>\n",
       "      <th>BufID</th>\n",
       "      <th>geometry</th>\n",
       "      <th>level_0</th>\n",
       "      <th>ID</th>\n",
       "      <th>ID_NEW</th>\n",
       "      <th>ID_old</th>\n",
       "      <th>KATULUOKKA</th>\n",
       "      <th>Lajin_seli</th>\n",
       "      <th>aht_ajon</th>\n",
       "      <th>apu</th>\n",
       "      <th>...</th>\n",
       "      <th>uusin_lask</th>\n",
       "      <th>uusin_ra_1</th>\n",
       "      <th>uusin_rask</th>\n",
       "      <th>vrkjak07_1</th>\n",
       "      <th>vrkjak19_2</th>\n",
       "      <th>vrkjak22_0</th>\n",
       "      <th>index_right</th>\n",
       "      <th>index</th>\n",
       "      <th>startstop</th>\n",
       "      <th>BufID2</th>\n",
       "    </tr>\n",
       "  </thead>\n",
       "  <tbody>\n",
       "    <tr>\n",
       "      <th>0</th>\n",
       "      <td>1.0</td>\n",
       "      <td>LINESTRING (239367.971 6710917.509, 239358.785...</td>\n",
       "      <td>0</td>\n",
       "      <td>70.0</td>\n",
       "      <td>7070.0</td>\n",
       "      <td>451.0</td>\n",
       "      <td>0.0</td>\n",
       "      <td>yaoh#katu,keskilinja</td>\n",
       "      <td>0.0</td>\n",
       "      <td>2003.0</td>\n",
       "      <td>...</td>\n",
       "      <td>2003.0</td>\n",
       "      <td>2003.0</td>\n",
       "      <td>60.0</td>\n",
       "      <td>79.0</td>\n",
       "      <td>13.0</td>\n",
       "      <td>8.0</td>\n",
       "      <td>1.0</td>\n",
       "      <td>0.0</td>\n",
       "      <td>own</td>\n",
       "      <td>1.0</td>\n",
       "    </tr>\n",
       "    <tr>\n",
       "      <th>1</th>\n",
       "      <td>2.0</td>\n",
       "      <td>LINESTRING (240057.968 6711326.131, 239923.619...</td>\n",
       "      <td>1</td>\n",
       "      <td>70.0</td>\n",
       "      <td>7070.0</td>\n",
       "      <td>451.0</td>\n",
       "      <td>0.0</td>\n",
       "      <td>yaoh#katu,keskilinja</td>\n",
       "      <td>0.0</td>\n",
       "      <td>2003.0</td>\n",
       "      <td>...</td>\n",
       "      <td>2003.0</td>\n",
       "      <td>2003.0</td>\n",
       "      <td>60.0</td>\n",
       "      <td>79.0</td>\n",
       "      <td>13.0</td>\n",
       "      <td>8.0</td>\n",
       "      <td>2.0</td>\n",
       "      <td>1.0</td>\n",
       "      <td>s</td>\n",
       "      <td>2.0</td>\n",
       "    </tr>\n",
       "    <tr>\n",
       "      <th>2</th>\n",
       "      <td>NaN</td>\n",
       "      <td>LINESTRING (240274.146 6711452.723, 240269.658...</td>\n",
       "      <td>2</td>\n",
       "      <td>70.0</td>\n",
       "      <td>7070.0</td>\n",
       "      <td>451.0</td>\n",
       "      <td>0.0</td>\n",
       "      <td>yaoh#katu,keskilinja</td>\n",
       "      <td>0.0</td>\n",
       "      <td>2003.0</td>\n",
       "      <td>...</td>\n",
       "      <td>2003.0</td>\n",
       "      <td>2003.0</td>\n",
       "      <td>60.0</td>\n",
       "      <td>79.0</td>\n",
       "      <td>13.0</td>\n",
       "      <td>8.0</td>\n",
       "      <td>NaN</td>\n",
       "      <td>NaN</td>\n",
       "      <td>NaN</td>\n",
       "      <td>NaN</td>\n",
       "    </tr>\n",
       "  </tbody>\n",
       "</table>\n",
       "<p>3 rows × 44 columns</p>\n",
       "</div>"
      ],
      "text/plain": [
       "   BufID                                           geometry  level_0    ID  \\\n",
       "0    1.0  LINESTRING (239367.971 6710917.509, 239358.785...        0  70.0   \n",
       "1    2.0  LINESTRING (240057.968 6711326.131, 239923.619...        1  70.0   \n",
       "2    NaN  LINESTRING (240274.146 6711452.723, 240269.658...        2  70.0   \n",
       "\n",
       "   ID_NEW  ID_old  KATULUOKKA            Lajin_seli  aht_ajon     apu  ...  \\\n",
       "0  7070.0   451.0         0.0  yaoh#katu,keskilinja       0.0  2003.0  ...   \n",
       "1  7070.0   451.0         0.0  yaoh#katu,keskilinja       0.0  2003.0  ...   \n",
       "2  7070.0   451.0         0.0  yaoh#katu,keskilinja       0.0  2003.0  ...   \n",
       "\n",
       "   uusin_lask  uusin_ra_1  uusin_rask  vrkjak07_1 vrkjak19_2  vrkjak22_0  \\\n",
       "0      2003.0      2003.0        60.0        79.0       13.0         8.0   \n",
       "1      2003.0      2003.0        60.0        79.0       13.0         8.0   \n",
       "2      2003.0      2003.0        60.0        79.0       13.0         8.0   \n",
       "\n",
       "   index_right  index  startstop  BufID2  \n",
       "0          1.0    0.0        own     1.0  \n",
       "1          2.0    1.0          s     2.0  \n",
       "2          NaN    NaN        NaN     NaN  \n",
       "\n",
       "[3 rows x 44 columns]"
      ]
     },
     "execution_count": 72,
     "metadata": {},
     "output_type": "execute_result"
    }
   ],
   "source": [
    "bufjoinfinal"
   ]
  },
  {
   "cell_type": "code",
   "execution_count": 73,
   "metadata": {},
   "outputs": [],
   "source": [
    "homogeeniset_linkit = homogeeniset_linkit[[\"KATULUOKKA\", \"geometry\", \"katu\"]]"
   ]
  },
  {
   "cell_type": "code",
   "execution_count": 74,
   "metadata": {},
   "outputs": [],
   "source": [
    "homogeeniset_linkit.head()\n",
    "homogeeniset_linkit[\"H_ID\"] = list(range(0, len(homogeeniset_linkit))) # Create Link identifier"
   ]
  },
  {
   "cell_type": "code",
   "execution_count": 75,
   "metadata": {},
   "outputs": [],
   "source": [
    "join = gpd.sjoin(homogeeniset_linkit, network2, how=\"left\", op=\"contains\")"
   ]
  },
  {
   "cell_type": "code",
   "execution_count": 76,
   "metadata": {},
   "outputs": [
    {
     "name": "stderr",
     "output_type": "stream",
     "text": [
      "C:\\Users\\jmjohan\\.conda\\envs\\gis\\lib\\site-packages\\ipykernel_launcher.py:6: FutureWarning:     You are passing non-geometry data to the GeoSeries constructor. Currently,\n",
      "    it falls back to returning a pandas Series. But in the future, we will start\n",
      "    to raise a TypeError instead.\n",
      "  \n",
      "C:\\Users\\jmjohan\\.conda\\envs\\gis\\lib\\site-packages\\ipykernel_launcher.py:7: FutureWarning:     You are passing non-geometry data to the GeoSeries constructor. Currently,\n",
      "    it falls back to returning a pandas Series. But in the future, we will start\n",
      "    to raise a TypeError instead.\n",
      "  import sys\n"
     ]
    }
   ],
   "source": [
    "katulist = list(join[\"katu_left\"])\n",
    "\n",
    "H_ID = list(join[\"H_ID\"])\n",
    "\n",
    "katuIDdf = gpd.GeoDataFrame()\n",
    "katuIDdf[\"katu\"] = gpd.GeoSeries(katulist)\n",
    "katuIDdf[\"H_ID\"] = gpd.GeoSeries(H_ID)"
   ]
  },
  {
   "cell_type": "code",
   "execution_count": 77,
   "metadata": {},
   "outputs": [],
   "source": [
    "finaldissolve1 = join.dissolve(by='H_ID', aggfunc='mean')"
   ]
  },
  {
   "cell_type": "code",
   "execution_count": 78,
   "metadata": {},
   "outputs": [],
   "source": [
    "NADF = gpd.GeoDataFrame()\n",
    "\n",
    "\n",
    "\n",
    "fdlen = len(finaldissolve1)\n",
    "\n",
    "#for x in range(0, fdlen):\n",
    "    #if pd.isna(finaldissolve1[\"SY KAVL+RV\"].iloc[x]):\n",
    "        #finaldissolve1 = finaldissolve1.drop(finaldissolve1.index[x])     \n",
    "        \n",
    "for x in range(0, len(finaldissolve1)):\n",
    "    if pd.isna(finaldissolve1[\"kavl_NYKY\"].iloc[x]):\n",
    "        row = finaldissolve1.iloc[x]\n",
    "        NADF = NADF.append(finaldissolve1.iloc[x])\n",
    "        \n",
    "\n",
    "        \n",
    "#NADF = NADF.drop([\"index_right\"], axis=\"columns\")\n",
    "NADF[\"H_ID\"] = list(range(0, len(NADF))) # Create Link identifier\n",
    "NADF.crs = CRS.from_epsg(3067)\n",
    "\n",
    "NADFIND = list(NADF.index)\n",
    "#KLID = list(katuIDdf[\"KL\"])\n",
    "KL_LIST = list(NADF[\"KATULUOKKA_right\"])\n",
    "\n",
    "\n",
    "\n",
    "katulist2 = []\n",
    "\n",
    "for a in range(0, len(NADFIND)):\n",
    "    for b in range(0, len(katuIDdf)):\n",
    "        if int(NADFIND[a]) == int(katuIDdf[\"H_ID\"].iloc[b]):\n",
    "            katulist2.append(str(katuIDdf[\"katu\"].iloc[b]))"
   ]
  },
  {
   "cell_type": "code",
   "execution_count": 79,
   "metadata": {},
   "outputs": [],
   "source": [
    "NADF = NADF.drop([\"index_right\"], axis=\"columns\")"
   ]
  },
  {
   "cell_type": "code",
   "execution_count": 80,
   "metadata": {},
   "outputs": [],
   "source": [
    "NADFIND_FINALDISSOLVE1 = list(finaldissolve1.index)\n",
    "katulist3 = []\n",
    "\n",
    "for c in range(0, len(NADFIND_FINALDISSOLVE1)):\n",
    "    for d in range(0, len(homogeeniset_linkit)):\n",
    "        if int(NADFIND_FINALDISSOLVE1[c]) == int(homogeeniset_linkit[\"H_ID\"].iloc[d]):\n",
    "            katulist3.append(str(homogeeniset_linkit[\"katu\"].iloc[d]))"
   ]
  },
  {
   "cell_type": "code",
   "execution_count": 81,
   "metadata": {},
   "outputs": [],
   "source": [
    "finaldissolve1 = finaldissolve1.dropna(subset=['kavl_NYKY'], axis='rows')"
   ]
  },
  {
   "cell_type": "code",
   "execution_count": 82,
   "metadata": {},
   "outputs": [],
   "source": [
    "finaldissolve1[\"katu\"] = gpd.GeoDataFrame(katulist3)"
   ]
  },
  {
   "cell_type": "code",
   "execution_count": 83,
   "metadata": {},
   "outputs": [
    {
     "data": {
      "text/plain": [
       "34"
      ]
     },
     "execution_count": 83,
     "metadata": {},
     "output_type": "execute_result"
    }
   ],
   "source": [
    "len(NADF)"
   ]
  },
  {
   "cell_type": "code",
   "execution_count": 84,
   "metadata": {},
   "outputs": [],
   "source": [
    "nulljoin = gpd.sjoin(NADF, network2, how=\"left\", op=\"intersects\")"
   ]
  },
  {
   "cell_type": "code",
   "execution_count": 85,
   "metadata": {},
   "outputs": [],
   "source": [
    "nulldissolve = nulljoin.dissolve(by='H_ID', aggfunc='mean')"
   ]
  },
  {
   "cell_type": "code",
   "execution_count": 86,
   "metadata": {},
   "outputs": [],
   "source": [
    "nulldissolve = nulldissolve.drop([\n",
    "'ID_left', 'ID_NEW_left', 'ID_old_left', 'KATULUOKKA_left', 'KATULUOKKA_right', 'aht_ajon_left', 'apu_left', 'apuraskaat_left',\n",
    "       'iht_ajon_left', 'kavl_2008_left', 'kavl_2011_left', 'kavl_2017_left',\n",
    "       'kavl_2018_left', 'kavl_NYKY_left', 'keskiviiva_left', 'luotettavu_left', 'nopeus_left', 'pituus_left',\n",
    "       'rprosentti_left', 'toimluok_l_left', 'uusin_kavl_left',\n",
    "       'uusin_lask_left', 'uusin_ra_1_left', 'uusin_rask_left',\n",
    "       'vrkjak07_1_left', 'vrkjak19_2_left', 'vrkjak22_0_left', 'index_right',\n",
    "       'ID_old_right', 'toimluok_l_right', 'luotettavu_right', 'kavl_2018_right', 'kavl_2017_right', 'kavl_2011_right',\n",
    "       'kavl_2008_right', 'uusin_kavl_right', 'uusin_lask_right',\n",
    "       'uusin_rask_right', 'uusin_ra_1_right', 'aht_ajon_right',\n",
    "       'iht_ajon_right', 'nopeus_right', 'rprosentti_right',\n",
    "       'vrkjak07_1_right', 'vrkjak19_2_right', 'vrkjak22_0_right',\n",
    "       'pituus_right', 'keskiviiva_right', 'apu_right', 'apuraskaat_right',\n",
    "       'ID_right', 'ID_NEW_right', ], axis=\"columns\")"
   ]
  },
  {
   "cell_type": "code",
   "execution_count": 87,
   "metadata": {},
   "outputs": [
    {
     "data": {
      "text/html": [
       "<div>\n",
       "<style scoped>\n",
       "    .dataframe tbody tr th:only-of-type {\n",
       "        vertical-align: middle;\n",
       "    }\n",
       "\n",
       "    .dataframe tbody tr th {\n",
       "        vertical-align: top;\n",
       "    }\n",
       "\n",
       "    .dataframe thead th {\n",
       "        text-align: right;\n",
       "    }\n",
       "</style>\n",
       "<table border=\"1\" class=\"dataframe\">\n",
       "  <thead>\n",
       "    <tr style=\"text-align: right;\">\n",
       "      <th></th>\n",
       "      <th>geometry</th>\n",
       "      <th>kavl_NYKY_right</th>\n",
       "      <th>KATULUOKKA</th>\n",
       "    </tr>\n",
       "    <tr>\n",
       "      <th>H_ID</th>\n",
       "      <th></th>\n",
       "      <th></th>\n",
       "      <th></th>\n",
       "    </tr>\n",
       "  </thead>\n",
       "  <tbody>\n",
       "    <tr>\n",
       "      <th>0</th>\n",
       "      <td>LINESTRING (237454.434 6709557.360, 237453.170...</td>\n",
       "      <td>2100.0</td>\n",
       "      <td>5.0</td>\n",
       "    </tr>\n",
       "    <tr>\n",
       "      <th>1</th>\n",
       "      <td>LINESTRING (237554.477 6709644.304, 237545.900...</td>\n",
       "      <td>2100.0</td>\n",
       "      <td>5.0</td>\n",
       "    </tr>\n",
       "    <tr>\n",
       "      <th>2</th>\n",
       "      <td>LINESTRING (237986.578 6707641.989, 237933.943...</td>\n",
       "      <td>2000.0</td>\n",
       "      <td>0.0</td>\n",
       "    </tr>\n",
       "    <tr>\n",
       "      <th>3</th>\n",
       "      <td>MULTILINESTRING ((238368.125 6707090.811, 2383...</td>\n",
       "      <td>2000.0</td>\n",
       "      <td>0.0</td>\n",
       "    </tr>\n",
       "    <tr>\n",
       "      <th>4</th>\n",
       "      <td>LINESTRING (238785.633 6708151.784, 238763.905...</td>\n",
       "      <td>1400.0</td>\n",
       "      <td>0.0</td>\n",
       "    </tr>\n",
       "  </tbody>\n",
       "</table>\n",
       "</div>"
      ],
      "text/plain": [
       "                                               geometry  kavl_NYKY_right  \\\n",
       "H_ID                                                                       \n",
       "0     LINESTRING (237454.434 6709557.360, 237453.170...           2100.0   \n",
       "1     LINESTRING (237554.477 6709644.304, 237545.900...           2100.0   \n",
       "2     LINESTRING (237986.578 6707641.989, 237933.943...           2000.0   \n",
       "3     MULTILINESTRING ((238368.125 6707090.811, 2383...           2000.0   \n",
       "4     LINESTRING (238785.633 6708151.784, 238763.905...           1400.0   \n",
       "\n",
       "      KATULUOKKA  \n",
       "H_ID              \n",
       "0            5.0  \n",
       "1            5.0  \n",
       "2            0.0  \n",
       "3            0.0  \n",
       "4            0.0  "
      ]
     },
     "execution_count": 87,
     "metadata": {},
     "output_type": "execute_result"
    }
   ],
   "source": [
    "nulldissolve.head()"
   ]
  },
  {
   "cell_type": "code",
   "execution_count": 88,
   "metadata": {},
   "outputs": [
    {
     "name": "stderr",
     "output_type": "stream",
     "text": [
      "C:\\Users\\jmjohan\\.conda\\envs\\gis\\lib\\site-packages\\ipykernel_launcher.py:1: FutureWarning:     You are passing non-geometry data to the GeoSeries constructor. Currently,\n",
      "    it falls back to returning a pandas Series. But in the future, we will start\n",
      "    to raise a TypeError instead.\n",
      "  \"\"\"Entry point for launching an IPython kernel.\n",
      "C:\\Users\\jmjohan\\.conda\\envs\\gis\\lib\\site-packages\\ipykernel_launcher.py:2: FutureWarning:     You are passing non-geometry data to the GeoSeries constructor. Currently,\n",
      "    it falls back to returning a pandas Series. But in the future, we will start\n",
      "    to raise a TypeError instead.\n",
      "  \n"
     ]
    }
   ],
   "source": [
    "nulldissolve[\"finaldissolve1LUOKKA\"] = gpd.GeoSeries(KL_LIST)\n",
    "nulldissolve[\"katu\"] = gpd.GeoSeries(katulist2)"
   ]
  },
  {
   "cell_type": "code",
   "execution_count": 89,
   "metadata": {},
   "outputs": [],
   "source": [
    "finaldissolve1 = finaldissolve1[['geometry', 'katu', 'KATULUOKKA_left', 'kavl_NYKY']]"
   ]
  },
  {
   "cell_type": "code",
   "execution_count": 90,
   "metadata": {},
   "outputs": [
    {
     "data": {
      "text/plain": [
       "Index(['geometry', 'kavl_NYKY_right', 'KATULUOKKA', 'finaldissolve1LUOKKA',\n",
       "       'katu'],\n",
       "      dtype='object')"
      ]
     },
     "execution_count": 90,
     "metadata": {},
     "output_type": "execute_result"
    }
   ],
   "source": [
    "nulldissolve.columns"
   ]
  },
  {
   "cell_type": "code",
   "execution_count": 91,
   "metadata": {},
   "outputs": [],
   "source": [
    "nulldissolve = nulldissolve[['geometry', 'kavl_NYKY_right', 'katu', 'KATULUOKKA']]"
   ]
  },
  {
   "cell_type": "code",
   "execution_count": 92,
   "metadata": {},
   "outputs": [],
   "source": [
    "finalproduct = finaldissolve1\n",
    "finalproduct = finalproduct.append(nulldissolve)\n",
    "finalproduct = finalproduct.reset_index()"
   ]
  },
  {
   "cell_type": "code",
   "execution_count": 93,
   "metadata": {},
   "outputs": [
    {
     "name": "stderr",
     "output_type": "stream",
     "text": [
      "C:\\Users\\jmjohan\\.conda\\envs\\gis\\lib\\site-packages\\ipykernel_launcher.py:1: FutureWarning:     You are passing non-geometry data to the GeoSeries constructor. Currently,\n",
      "    it falls back to returning a pandas Series. But in the future, we will start\n",
      "    to raise a TypeError instead.\n",
      "  \"\"\"Entry point for launching an IPython kernel.\n"
     ]
    }
   ],
   "source": [
    "finalproduct[\"ID\"] = gpd.GeoSeries(list(range(0, len(finalproduct))))"
   ]
  },
  {
   "cell_type": "code",
   "execution_count": 94,
   "metadata": {},
   "outputs": [],
   "source": [
    "finalproduct[\"pituus\"] = finalproduct.geometry.length"
   ]
  },
  {
   "cell_type": "code",
   "execution_count": 95,
   "metadata": {},
   "outputs": [],
   "source": [
    "finalproduct.crs = CRS.from_epsg(3067)"
   ]
  },
  {
   "cell_type": "code",
   "execution_count": 96,
   "metadata": {},
   "outputs": [],
   "source": [
    "homogeeniset_linkit.crs = CRS.from_epsg(3067)"
   ]
  },
  {
   "cell_type": "code",
   "execution_count": 97,
   "metadata": {},
   "outputs": [],
   "source": [
    "finaldissolve1.crs = CRS.from_epsg(3067)"
   ]
  },
  {
   "cell_type": "code",
   "execution_count": 98,
   "metadata": {},
   "outputs": [],
   "source": [
    "nulldissolve.crs = CRS.from_epsg(3067)"
   ]
  },
  {
   "cell_type": "code",
   "execution_count": null,
   "metadata": {},
   "outputs": [],
   "source": []
  },
  {
   "cell_type": "code",
   "execution_count": 99,
   "metadata": {},
   "outputs": [],
   "source": [
    "finalproduct.to_file(\"C:/data/L3Pilot/katuverkko/Turku/TURKUfinalproduct_contains.shp\")"
   ]
  },
  {
   "cell_type": "code",
   "execution_count": null,
   "metadata": {},
   "outputs": [],
   "source": [
    "#finalproduct.to_csv(\"C:/data/L3Pilot/katuverkko/Helsinki/hki_link_liikennemääräkartta2019/finalproduct.csv\")"
   ]
  },
  {
   "cell_type": "code",
   "execution_count": null,
   "metadata": {},
   "outputs": [],
   "source": [
    "#nulldissolve.to_csv(\"C:/data/L3Pilot/katuverkko/Helsinki/hki_link_liikennemääräkartta2019/nulldissolve.csv\")"
   ]
  },
  {
   "cell_type": "code",
   "execution_count": null,
   "metadata": {},
   "outputs": [],
   "source": [
    "#finaldissolve1.to_file(\"C:/data/L3Pilot/katuverkko/Helsinki/hki_link_liikennemääräkartta2019/finaldissolve.shp\")"
   ]
  },
  {
   "cell_type": "code",
   "execution_count": null,
   "metadata": {},
   "outputs": [],
   "source": [
    "#finaldissolve1.to_csv(\"C:/data/L3Pilot/katuverkko/Helsinki/hki_link_liikennemääräkartta2019/finaldissolve.csv\")"
   ]
  },
  {
   "cell_type": "code",
   "execution_count": null,
   "metadata": {},
   "outputs": [],
   "source": [
    "#nulldissolve.to_file(\"C:/data/L3Pilot/katuverkko/Helsinki/hki_link_liikennemääräkartta2019/nulldissolve.shp\")"
   ]
  },
  {
   "cell_type": "code",
   "execution_count": null,
   "metadata": {},
   "outputs": [],
   "source": [
    "#homogeeniset_linkit.to_file(\"C:/data/L3Pilot/katuverkko/Helsinki/hki_link_liikennemääräkartta2019/homogeeniset_linkit_mergetest_connectionsfixed.shp\")"
   ]
  },
  {
   "cell_type": "code",
   "execution_count": null,
   "metadata": {},
   "outputs": [],
   "source": [
    "#homogeeniset_linkit.to_csv(\"C:/data/L3Pilot/katuverkko/Helsinki/hki_link_liikennemääräkartta2019/homogeeniset_linkit_mergetest_connectionsfixed.csv\")"
   ]
  }
 ],
 "metadata": {
  "kernelspec": {
   "display_name": "Python 3",
   "language": "python",
   "name": "python3"
  },
  "language_info": {
   "codemirror_mode": {
    "name": "ipython",
    "version": 3
   },
   "file_extension": ".py",
   "mimetype": "text/x-python",
   "name": "python",
   "nbconvert_exporter": "python",
   "pygments_lexer": "ipython3",
   "version": "3.7.7"
  }
 },
 "nbformat": 4,
 "nbformat_minor": 4
}
